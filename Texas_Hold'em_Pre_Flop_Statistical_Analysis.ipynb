{
  "nbformat": 4,
  "nbformat_minor": 0,
  "metadata": {
    "colab": {
      "name": "Texas Hold'em Pre-Flop Statistical Analysis.ipynb",
      "provenance": [],
      "collapsed_sections": [],
      "toc_visible": true
    },
    "kernelspec": {
      "name": "python3",
      "display_name": "Python 3"
    }
  },
  "cells": [
    {
      "cell_type": "markdown",
      "metadata": {
        "id": "KjOpsKwbxC5v"
      },
      "source": [
        "### Texas Hold'em Pre-Flop Statistical Analysis"
      ]
    },
    {
      "cell_type": "markdown",
      "metadata": {
        "id": "Nw0x4IK2xL_c"
      },
      "source": [
        "Purpose: Analyze Correlation between Pre-Flop Betting Strategy and Profit"
      ]
    },
    {
      "cell_type": "markdown",
      "metadata": {
        "id": "CBvYNw6Cxtzr"
      },
      "source": [
        "Method: K-Nearest Neighbor Model"
      ]
    },
    {
      "cell_type": "code",
      "metadata": {
        "id": "GYb8JnNSwZam"
      },
      "source": [
        "# Load libraries\n",
        "import pandas as pd\n",
        "import numpy as np\n",
        "\n",
        "from sklearn.model_selection import train_test_split\n",
        "from sklearn.preprocessing import KBinsDiscretizer, StandardScaler\n",
        "from sklearn.neighbors import KNeighborsClassifier\n",
        "from sklearn.metrics import accuracy_score,confusion_matrix\n",
        "\n",
        "import matplotlib.pyplot as plt\n",
        "%matplotlib inline"
      ],
      "execution_count": 1,
      "outputs": []
    },
    {
      "cell_type": "markdown",
      "metadata": {
        "id": "UyOP1z6Ox6da"
      },
      "source": [
        "# Organizing and Summarizing Data"
      ]
    },
    {
      "cell_type": "code",
      "metadata": {
        "colab": {
          "base_uri": "https://localhost:8080/"
        },
        "id": "V2D6AVGj6Qgl",
        "outputId": "4d0c1673-8948-4ede-8b9f-44c5932f2c30"
      },
      "source": [
        "# Create header and display dataframe\n",
        "col_names = [\"PlayerAlias\", \"PokerSite\", \"Hands\", \"NetWon\", \"VPIP\", \"PFR\", \"ThreeBet\", \"PostflopAgg\", \"WWSF\", \"WTSD\", \"WonAtSD\", \"Wins\", \"Losses\", \"VsPlayer\"]\n",
        "df = pd.read_csv(\"PokerPlayerStatistics.csv\", header=0, names=col_names)\n",
        "print(df)"
      ],
      "execution_count": 2,
      "outputs": [
        {
          "output_type": "stream",
          "text": [
            "        PlayerAlias  PokerSite  Hands  NetWon  ...   WonAtSD  Wins  Losses  VsPlayer\n",
            "0          Player 1         19    155  -51.45  ...  0.428571   NaN     NaN       NaN\n",
            "1          Player 2          1    176  -23.32  ...  0.307692   NaN     NaN       NaN\n",
            "2          Player 3          1   3171  108.30  ...  0.556391   NaN     NaN       NaN\n",
            "3          Player 4          1     70    2.53  ...  0.250000   NaN     NaN       NaN\n",
            "4          Player 5          2    241   42.23  ...  0.818182   NaN     NaN       NaN\n",
            "...             ...        ...    ...     ...  ...       ...   ...     ...       ...\n",
            "32622  Player 32623         19    433  -52.35  ...  0.500000   NaN     NaN       NaN\n",
            "32623  Player 32624          2     46    4.30  ...  0.000000   NaN     NaN       NaN\n",
            "32624  Player 32625          2  12914    5.47  ...  0.511574   NaN     NaN       NaN\n",
            "32625  Player 32626          1    109  -16.17  ...  0.166667   NaN     NaN       NaN\n",
            "32626  Player 32627          2     83   13.83  ...  1.000000   NaN     NaN       NaN\n",
            "\n",
            "[32627 rows x 14 columns]\n"
          ],
          "name": "stdout"
        }
      ]
    },
    {
      "cell_type": "code",
      "metadata": {
        "colab": {
          "base_uri": "https://localhost:8080/"
        },
        "id": "VeKi4K7uzB1z",
        "outputId": "e71f501c-aa3c-4e35-e92c-c772d2b6cc14"
      },
      "source": [
        "# Drop unnecessary columns \n",
        "df.drop([\"PokerSite\", \"PostflopAgg\", \"WWSF\", \"WTSD\", \"WonAtSD\", \"Wins\", \"Losses\", \"VsPlayer\"], axis = 1, inplace = True)\n",
        "print(df)"
      ],
      "execution_count": 3,
      "outputs": [
        {
          "output_type": "stream",
          "text": [
            "        PlayerAlias  Hands  NetWon      VPIP       PFR  ThreeBet\n",
            "0          Player 1    155  -51.45  0.200000  0.154839  0.021277\n",
            "1          Player 2    176  -23.32  0.420455  0.096591  0.015385\n",
            "2          Player 3   3171  108.30  0.196783  0.121728  0.034636\n",
            "3          Player 4     70    2.53  0.228571  0.142857  0.076923\n",
            "4          Player 5    241   42.23  0.232365  0.082988  0.027027\n",
            "...             ...    ...     ...       ...       ...       ...\n",
            "32622  Player 32623    433  -52.35  0.260970  0.210162  0.136646\n",
            "32623  Player 32624     46    4.30  0.173913  0.043478  0.043478\n",
            "32624  Player 32625  12914    5.47  0.130943  0.119018  0.061377\n",
            "32625  Player 32626    109  -16.17  0.247706  0.091743  0.021277\n",
            "32626  Player 32627     83   13.83  0.253012  0.132530  0.000000\n",
            "\n",
            "[32627 rows x 6 columns]\n"
          ],
          "name": "stdout"
        }
      ]
    },
    {
      "cell_type": "code",
      "metadata": {
        "id": "LN3RxtGC5Gxx"
      },
      "source": [
        "# Define variables \n",
        "\n",
        "# 'Hands' represents the number of hands each player has played\n",
        "# 'NetWon' represents the total profit of the player\n",
        "# 'VPIP' stands for \"voluntary put $ in pot\" and represents the perentage of hands the player plays\n",
        "# 'PFR' stands for stands for \"preflop raiser” and represents the perecentage of hands a player raises on the first betting round\n",
        "# 'ThreeBet' represents the percentage of times a player raises an opponent who has already raised \n"
      ],
      "execution_count": 4,
      "outputs": []
    },
    {
      "cell_type": "code",
      "metadata": {
        "colab": {
          "base_uri": "https://localhost:8080/"
        },
        "id": "erTMoCu_2GCD",
        "outputId": "7c405aee-5d5f-4848-91e9-b2a5958e2c6b"
      },
      "source": [
        "# Check data types of each column\n",
        "df.info()"
      ],
      "execution_count": 5,
      "outputs": [
        {
          "output_type": "stream",
          "text": [
            "<class 'pandas.core.frame.DataFrame'>\n",
            "RangeIndex: 32627 entries, 0 to 32626\n",
            "Data columns (total 6 columns):\n",
            " #   Column       Non-Null Count  Dtype  \n",
            "---  ------       --------------  -----  \n",
            " 0   PlayerAlias  32627 non-null  object \n",
            " 1   Hands        32627 non-null  int64  \n",
            " 2   NetWon       32627 non-null  float64\n",
            " 3   VPIP         32627 non-null  float64\n",
            " 4   PFR          32627 non-null  float64\n",
            " 5   ThreeBet     32627 non-null  float64\n",
            "dtypes: float64(4), int64(1), object(1)\n",
            "memory usage: 1.5+ MB\n"
          ],
          "name": "stdout"
        }
      ]
    },
    {
      "cell_type": "code",
      "metadata": {
        "colab": {
          "base_uri": "https://localhost:8080/",
          "height": 297
        },
        "id": "XlDntCywraGW",
        "outputId": "32846446-95bd-4e02-a29f-5a758504265f"
      },
      "source": [
        "# Display descriptive statistics\n",
        "df.describe()"
      ],
      "execution_count": 6,
      "outputs": [
        {
          "output_type": "execute_result",
          "data": {
            "text/html": [
              "<div>\n",
              "<style scoped>\n",
              "    .dataframe tbody tr th:only-of-type {\n",
              "        vertical-align: middle;\n",
              "    }\n",
              "\n",
              "    .dataframe tbody tr th {\n",
              "        vertical-align: top;\n",
              "    }\n",
              "\n",
              "    .dataframe thead th {\n",
              "        text-align: right;\n",
              "    }\n",
              "</style>\n",
              "<table border=\"1\" class=\"dataframe\">\n",
              "  <thead>\n",
              "    <tr style=\"text-align: right;\">\n",
              "      <th></th>\n",
              "      <th>Hands</th>\n",
              "      <th>NetWon</th>\n",
              "      <th>VPIP</th>\n",
              "      <th>PFR</th>\n",
              "      <th>ThreeBet</th>\n",
              "    </tr>\n",
              "  </thead>\n",
              "  <tbody>\n",
              "    <tr>\n",
              "      <th>count</th>\n",
              "      <td>32627.000000</td>\n",
              "      <td>32627.000000</td>\n",
              "      <td>32627.000000</td>\n",
              "      <td>32627.000000</td>\n",
              "      <td>32627.000000</td>\n",
              "    </tr>\n",
              "    <tr>\n",
              "      <th>mean</th>\n",
              "      <td>565.406075</td>\n",
              "      <td>-5.881063</td>\n",
              "      <td>0.308935</td>\n",
              "      <td>0.113833</td>\n",
              "      <td>0.042632</td>\n",
              "    </tr>\n",
              "    <tr>\n",
              "      <th>std</th>\n",
              "      <td>2082.194746</td>\n",
              "      <td>46.435680</td>\n",
              "      <td>0.155459</td>\n",
              "      <td>0.069700</td>\n",
              "      <td>0.049120</td>\n",
              "    </tr>\n",
              "    <tr>\n",
              "      <th>min</th>\n",
              "      <td>40.000000</td>\n",
              "      <td>-1059.440000</td>\n",
              "      <td>0.000000</td>\n",
              "      <td>0.000000</td>\n",
              "      <td>0.000000</td>\n",
              "    </tr>\n",
              "    <tr>\n",
              "      <th>25%</th>\n",
              "      <td>63.000000</td>\n",
              "      <td>-20.215000</td>\n",
              "      <td>0.188571</td>\n",
              "      <td>0.067308</td>\n",
              "      <td>0.000000</td>\n",
              "    </tr>\n",
              "    <tr>\n",
              "      <th>50%</th>\n",
              "      <td>111.000000</td>\n",
              "      <td>-5.120000</td>\n",
              "      <td>0.280000</td>\n",
              "      <td>0.105603</td>\n",
              "      <td>0.033333</td>\n",
              "    </tr>\n",
              "    <tr>\n",
              "      <th>75%</th>\n",
              "      <td>261.000000</td>\n",
              "      <td>9.070000</td>\n",
              "      <td>0.395349</td>\n",
              "      <td>0.147841</td>\n",
              "      <td>0.059406</td>\n",
              "    </tr>\n",
              "    <tr>\n",
              "      <th>max</th>\n",
              "      <td>77109.000000</td>\n",
              "      <td>785.480000</td>\n",
              "      <td>0.984375</td>\n",
              "      <td>0.975610</td>\n",
              "      <td>0.962963</td>\n",
              "    </tr>\n",
              "  </tbody>\n",
              "</table>\n",
              "</div>"
            ],
            "text/plain": [
              "              Hands        NetWon          VPIP           PFR      ThreeBet\n",
              "count  32627.000000  32627.000000  32627.000000  32627.000000  32627.000000\n",
              "mean     565.406075     -5.881063      0.308935      0.113833      0.042632\n",
              "std     2082.194746     46.435680      0.155459      0.069700      0.049120\n",
              "min       40.000000  -1059.440000      0.000000      0.000000      0.000000\n",
              "25%       63.000000    -20.215000      0.188571      0.067308      0.000000\n",
              "50%      111.000000     -5.120000      0.280000      0.105603      0.033333\n",
              "75%      261.000000      9.070000      0.395349      0.147841      0.059406\n",
              "max    77109.000000    785.480000      0.984375      0.975610      0.962963"
            ]
          },
          "metadata": {
            "tags": []
          },
          "execution_count": 6
        }
      ]
    },
    {
      "cell_type": "code",
      "metadata": {
        "colab": {
          "base_uri": "https://localhost:8080/",
          "height": 535
        },
        "id": "PAlj1VjOvo5j",
        "outputId": "aa78f44e-7735-480f-aa4b-44bf49168400"
      },
      "source": [
        "# Remove inputs with less than 500 hands \n",
        "df_filtered = df.query(\"Hands >= 500\")\n",
        "print(df_filtered)\n",
        "df_filtered.describe()"
      ],
      "execution_count": 7,
      "outputs": [
        {
          "output_type": "stream",
          "text": [
            "        PlayerAlias  Hands  NetWon      VPIP       PFR  ThreeBet\n",
            "2          Player 3   3171  108.30  0.196783  0.121728  0.034636\n",
            "16        Player 17   1057 -269.21  0.319773  0.243141  0.094972\n",
            "18        Player 19   8165   18.91  0.166197  0.128843  0.039577\n",
            "21        Player 22   7665 -150.60  0.111155  0.079061  0.026190\n",
            "26        Player 27   3827  137.66  0.134831  0.019859  0.017544\n",
            "...             ...    ...     ...       ...       ...       ...\n",
            "32570  Player 32571    532   14.45  0.125940  0.099624  0.066667\n",
            "32572  Player 32573    792  -12.82  0.296717  0.131313  0.010638\n",
            "32575  Player 32576   1870   53.45  0.189840  0.089840  0.006299\n",
            "32608  Player 32609    558  -31.74  0.148746  0.105735  0.021858\n",
            "32624  Player 32625  12914    5.47  0.130943  0.119018  0.061377\n",
            "\n",
            "[4876 rows x 6 columns]\n"
          ],
          "name": "stdout"
        },
        {
          "output_type": "execute_result",
          "data": {
            "text/html": [
              "<div>\n",
              "<style scoped>\n",
              "    .dataframe tbody tr th:only-of-type {\n",
              "        vertical-align: middle;\n",
              "    }\n",
              "\n",
              "    .dataframe tbody tr th {\n",
              "        vertical-align: top;\n",
              "    }\n",
              "\n",
              "    .dataframe thead th {\n",
              "        text-align: right;\n",
              "    }\n",
              "</style>\n",
              "<table border=\"1\" class=\"dataframe\">\n",
              "  <thead>\n",
              "    <tr style=\"text-align: right;\">\n",
              "      <th></th>\n",
              "      <th>Hands</th>\n",
              "      <th>NetWon</th>\n",
              "      <th>VPIP</th>\n",
              "      <th>PFR</th>\n",
              "      <th>ThreeBet</th>\n",
              "    </tr>\n",
              "  </thead>\n",
              "  <tbody>\n",
              "    <tr>\n",
              "      <th>count</th>\n",
              "      <td>4876.000000</td>\n",
              "      <td>4876.000000</td>\n",
              "      <td>4876.000000</td>\n",
              "      <td>4876.000000</td>\n",
              "      <td>4876.000000</td>\n",
              "    </tr>\n",
              "    <tr>\n",
              "      <th>mean</th>\n",
              "      <td>3036.940935</td>\n",
              "      <td>-2.606362</td>\n",
              "      <td>0.197321</td>\n",
              "      <td>0.107808</td>\n",
              "      <td>0.038541</td>\n",
              "    </tr>\n",
              "    <tr>\n",
              "      <th>std</th>\n",
              "      <td>4666.324201</td>\n",
              "      <td>101.302701</td>\n",
              "      <td>0.088597</td>\n",
              "      <td>0.041892</td>\n",
              "      <td>0.021264</td>\n",
              "    </tr>\n",
              "    <tr>\n",
              "      <th>min</th>\n",
              "      <td>500.000000</td>\n",
              "      <td>-754.970000</td>\n",
              "      <td>0.049180</td>\n",
              "      <td>0.000000</td>\n",
              "      <td>0.000000</td>\n",
              "    </tr>\n",
              "    <tr>\n",
              "      <th>25%</th>\n",
              "      <td>739.000000</td>\n",
              "      <td>-50.880000</td>\n",
              "      <td>0.137691</td>\n",
              "      <td>0.083455</td>\n",
              "      <td>0.024267</td>\n",
              "    </tr>\n",
              "    <tr>\n",
              "      <th>50%</th>\n",
              "      <td>1290.500000</td>\n",
              "      <td>-5.035000</td>\n",
              "      <td>0.169606</td>\n",
              "      <td>0.106993</td>\n",
              "      <td>0.036773</td>\n",
              "    </tr>\n",
              "    <tr>\n",
              "      <th>75%</th>\n",
              "      <td>3177.250000</td>\n",
              "      <td>41.052500</td>\n",
              "      <td>0.230314</td>\n",
              "      <td>0.129158</td>\n",
              "      <td>0.050000</td>\n",
              "    </tr>\n",
              "    <tr>\n",
              "      <th>max</th>\n",
              "      <td>77109.000000</td>\n",
              "      <td>785.480000</td>\n",
              "      <td>0.928986</td>\n",
              "      <td>0.393740</td>\n",
              "      <td>0.218750</td>\n",
              "    </tr>\n",
              "  </tbody>\n",
              "</table>\n",
              "</div>"
            ],
            "text/plain": [
              "              Hands       NetWon         VPIP          PFR     ThreeBet\n",
              "count   4876.000000  4876.000000  4876.000000  4876.000000  4876.000000\n",
              "mean    3036.940935    -2.606362     0.197321     0.107808     0.038541\n",
              "std     4666.324201   101.302701     0.088597     0.041892     0.021264\n",
              "min      500.000000  -754.970000     0.049180     0.000000     0.000000\n",
              "25%      739.000000   -50.880000     0.137691     0.083455     0.024267\n",
              "50%     1290.500000    -5.035000     0.169606     0.106993     0.036773\n",
              "75%     3177.250000    41.052500     0.230314     0.129158     0.050000\n",
              "max    77109.000000   785.480000     0.928986     0.393740     0.218750"
            ]
          },
          "metadata": {
            "tags": []
          },
          "execution_count": 7
        }
      ]
    },
    {
      "cell_type": "code",
      "metadata": {
        "colab": {
          "base_uri": "https://localhost:8080/",
          "height": 297
        },
        "id": "k_9FcQcoy3Ef",
        "outputId": "8519a245-447c-4d0d-81f3-ae320fcdc4a0"
      },
      "source": [
        "# Isolate most profitable quartile \n",
        "df_winning = df_filtered.query(\"NetWon >= 41.0525\")\n",
        "df_winning.describe()"
      ],
      "execution_count": 8,
      "outputs": [
        {
          "output_type": "execute_result",
          "data": {
            "text/html": [
              "<div>\n",
              "<style scoped>\n",
              "    .dataframe tbody tr th:only-of-type {\n",
              "        vertical-align: middle;\n",
              "    }\n",
              "\n",
              "    .dataframe tbody tr th {\n",
              "        vertical-align: top;\n",
              "    }\n",
              "\n",
              "    .dataframe thead th {\n",
              "        text-align: right;\n",
              "    }\n",
              "</style>\n",
              "<table border=\"1\" class=\"dataframe\">\n",
              "  <thead>\n",
              "    <tr style=\"text-align: right;\">\n",
              "      <th></th>\n",
              "      <th>Hands</th>\n",
              "      <th>NetWon</th>\n",
              "      <th>VPIP</th>\n",
              "      <th>PFR</th>\n",
              "      <th>ThreeBet</th>\n",
              "    </tr>\n",
              "  </thead>\n",
              "  <tbody>\n",
              "    <tr>\n",
              "      <th>count</th>\n",
              "      <td>1219.000000</td>\n",
              "      <td>1219.000000</td>\n",
              "      <td>1219.000000</td>\n",
              "      <td>1219.000000</td>\n",
              "      <td>1219.000000</td>\n",
              "    </tr>\n",
              "    <tr>\n",
              "      <th>mean</th>\n",
              "      <td>4820.944217</td>\n",
              "      <td>114.787646</td>\n",
              "      <td>0.180534</td>\n",
              "      <td>0.114658</td>\n",
              "      <td>0.042136</td>\n",
              "    </tr>\n",
              "    <tr>\n",
              "      <th>std</th>\n",
              "      <td>6090.865997</td>\n",
              "      <td>88.748800</td>\n",
              "      <td>0.071095</td>\n",
              "      <td>0.035827</td>\n",
              "      <td>0.018440</td>\n",
              "    </tr>\n",
              "    <tr>\n",
              "      <th>min</th>\n",
              "      <td>504.000000</td>\n",
              "      <td>41.090000</td>\n",
              "      <td>0.064988</td>\n",
              "      <td>0.003058</td>\n",
              "      <td>0.000000</td>\n",
              "    </tr>\n",
              "    <tr>\n",
              "      <th>25%</th>\n",
              "      <td>1097.500000</td>\n",
              "      <td>58.450000</td>\n",
              "      <td>0.136893</td>\n",
              "      <td>0.093642</td>\n",
              "      <td>0.030540</td>\n",
              "    </tr>\n",
              "    <tr>\n",
              "      <th>50%</th>\n",
              "      <td>2375.000000</td>\n",
              "      <td>85.670000</td>\n",
              "      <td>0.159624</td>\n",
              "      <td>0.112521</td>\n",
              "      <td>0.040724</td>\n",
              "    </tr>\n",
              "    <tr>\n",
              "      <th>75%</th>\n",
              "      <td>5972.500000</td>\n",
              "      <td>135.445000</td>\n",
              "      <td>0.197849</td>\n",
              "      <td>0.132155</td>\n",
              "      <td>0.052495</td>\n",
              "    </tr>\n",
              "    <tr>\n",
              "      <th>max</th>\n",
              "      <td>54396.000000</td>\n",
              "      <td>785.480000</td>\n",
              "      <td>0.559561</td>\n",
              "      <td>0.357060</td>\n",
              "      <td>0.138728</td>\n",
              "    </tr>\n",
              "  </tbody>\n",
              "</table>\n",
              "</div>"
            ],
            "text/plain": [
              "              Hands       NetWon         VPIP          PFR     ThreeBet\n",
              "count   1219.000000  1219.000000  1219.000000  1219.000000  1219.000000\n",
              "mean    4820.944217   114.787646     0.180534     0.114658     0.042136\n",
              "std     6090.865997    88.748800     0.071095     0.035827     0.018440\n",
              "min      504.000000    41.090000     0.064988     0.003058     0.000000\n",
              "25%     1097.500000    58.450000     0.136893     0.093642     0.030540\n",
              "50%     2375.000000    85.670000     0.159624     0.112521     0.040724\n",
              "75%     5972.500000   135.445000     0.197849     0.132155     0.052495\n",
              "max    54396.000000   785.480000     0.559561     0.357060     0.138728"
            ]
          },
          "metadata": {
            "tags": []
          },
          "execution_count": 8
        }
      ]
    },
    {
      "cell_type": "code",
      "metadata": {
        "colab": {
          "base_uri": "https://localhost:8080/",
          "height": 297
        },
        "id": "9HEAgCVk11C3",
        "outputId": "0f6e4afa-991f-4229-d44a-ceb689cb2b09"
      },
      "source": [
        "# Isolate least profitable quartile \n",
        "df_losing = df_filtered.query(\"NetWon <= -50.88\")\n",
        "df_losing.describe()"
      ],
      "execution_count": 9,
      "outputs": [
        {
          "output_type": "execute_result",
          "data": {
            "text/html": [
              "<div>\n",
              "<style scoped>\n",
              "    .dataframe tbody tr th:only-of-type {\n",
              "        vertical-align: middle;\n",
              "    }\n",
              "\n",
              "    .dataframe tbody tr th {\n",
              "        vertical-align: top;\n",
              "    }\n",
              "\n",
              "    .dataframe thead th {\n",
              "        text-align: right;\n",
              "    }\n",
              "</style>\n",
              "<table border=\"1\" class=\"dataframe\">\n",
              "  <thead>\n",
              "    <tr style=\"text-align: right;\">\n",
              "      <th></th>\n",
              "      <th>Hands</th>\n",
              "      <th>NetWon</th>\n",
              "      <th>VPIP</th>\n",
              "      <th>PFR</th>\n",
              "      <th>ThreeBet</th>\n",
              "    </tr>\n",
              "  </thead>\n",
              "  <tbody>\n",
              "    <tr>\n",
              "      <th>count</th>\n",
              "      <td>1219.000000</td>\n",
              "      <td>1219.000000</td>\n",
              "      <td>1219.000000</td>\n",
              "      <td>1219.000000</td>\n",
              "      <td>1219.000000</td>\n",
              "    </tr>\n",
              "    <tr>\n",
              "      <th>mean</th>\n",
              "      <td>3461.172272</td>\n",
              "      <td>-115.004569</td>\n",
              "      <td>0.219286</td>\n",
              "      <td>0.109140</td>\n",
              "      <td>0.039065</td>\n",
              "    </tr>\n",
              "    <tr>\n",
              "      <th>std</th>\n",
              "      <td>5164.110468</td>\n",
              "      <td>74.043769</td>\n",
              "      <td>0.105082</td>\n",
              "      <td>0.044725</td>\n",
              "      <td>0.022216</td>\n",
              "    </tr>\n",
              "    <tr>\n",
              "      <th>min</th>\n",
              "      <td>502.000000</td>\n",
              "      <td>-754.970000</td>\n",
              "      <td>0.065071</td>\n",
              "      <td>0.000727</td>\n",
              "      <td>0.000000</td>\n",
              "    </tr>\n",
              "    <tr>\n",
              "      <th>25%</th>\n",
              "      <td>867.000000</td>\n",
              "      <td>-133.350000</td>\n",
              "      <td>0.143749</td>\n",
              "      <td>0.082251</td>\n",
              "      <td>0.024600</td>\n",
              "    </tr>\n",
              "    <tr>\n",
              "      <th>50%</th>\n",
              "      <td>1668.000000</td>\n",
              "      <td>-91.070000</td>\n",
              "      <td>0.188288</td>\n",
              "      <td>0.108064</td>\n",
              "      <td>0.036545</td>\n",
              "    </tr>\n",
              "    <tr>\n",
              "      <th>75%</th>\n",
              "      <td>3899.500000</td>\n",
              "      <td>-67.745000</td>\n",
              "      <td>0.270098</td>\n",
              "      <td>0.131323</td>\n",
              "      <td>0.050550</td>\n",
              "    </tr>\n",
              "    <tr>\n",
              "      <th>max</th>\n",
              "      <td>77109.000000</td>\n",
              "      <td>-50.910000</td>\n",
              "      <td>0.928986</td>\n",
              "      <td>0.393740</td>\n",
              "      <td>0.218750</td>\n",
              "    </tr>\n",
              "  </tbody>\n",
              "</table>\n",
              "</div>"
            ],
            "text/plain": [
              "              Hands       NetWon         VPIP          PFR     ThreeBet\n",
              "count   1219.000000  1219.000000  1219.000000  1219.000000  1219.000000\n",
              "mean    3461.172272  -115.004569     0.219286     0.109140     0.039065\n",
              "std     5164.110468    74.043769     0.105082     0.044725     0.022216\n",
              "min      502.000000  -754.970000     0.065071     0.000727     0.000000\n",
              "25%      867.000000  -133.350000     0.143749     0.082251     0.024600\n",
              "50%     1668.000000   -91.070000     0.188288     0.108064     0.036545\n",
              "75%     3899.500000   -67.745000     0.270098     0.131323     0.050550\n",
              "max    77109.000000   -50.910000     0.928986     0.393740     0.218750"
            ]
          },
          "metadata": {
            "tags": []
          },
          "execution_count": 9
        }
      ]
    },
    {
      "cell_type": "markdown",
      "metadata": {
        "id": "L9omBW86yT3n"
      },
      "source": [
        "# Visualizing Data"
      ]
    },
    {
      "cell_type": "code",
      "metadata": {
        "colab": {
          "base_uri": "https://localhost:8080/",
          "height": 803
        },
        "id": "mkKFnhGl_moX",
        "outputId": "0d7c1569-285c-4320-d985-942f9b0e941e"
      },
      "source": [
        "# Visualize Data \n",
        "# VPIP\n",
        "x = df_filtered[\"VPIP\"]\n",
        "y = df_filtered[\"NetWon\"]\n",
        "plt.scatter(x,y, color = \"red\")\n",
        "plt.xlabel(\"VPIP\")\n",
        "plt.ylabel(\"NetWon\")\n",
        "plt.show()\n",
        "# PFR\n",
        "x = df_filtered[\"PFR\"]\n",
        "plt.scatter(x,y, color = \"green\")\n",
        "plt.xlabel(\"PFR\")\n",
        "plt.ylabel(\"NetWon\")\n",
        "plt.show()\n",
        "# ThreeBET\n",
        "x = df_filtered[\"ThreeBet\"]\n",
        "plt.scatter(x,y, color = \"blue\")\n",
        "plt.xlabel(\"ThreeBet\")\n",
        "plt.ylabel(\"NetWon\")\n",
        "plt.show()"
      ],
      "execution_count": 10,
      "outputs": [
        {
          "output_type": "display_data",
          "data": {
            "image/png": "[encoded data removed]",
            "text/plain": [
              "<Figure size 432x288 with 1 Axes>"
            ]
          },
          "metadata": {
            "tags": [],
            "needs_background": "light"
          }
        },
        {
          "output_type": "display_data",
          "data": {
            "image/png": "[encoded data removed]",
            "text/plain": [
              "<Figure size 432x288 with 1 Axes>"
            ]
          },
          "metadata": {
            "tags": [],
            "needs_background": "light"
          }
        },
        {
          "output_type": "display_data",
          "data": {
            "image/png": "[encoded data removed]",
            "text/plain": [
              "<Figure size 432x288 with 1 Axes>"
            ]
          },
          "metadata": {
            "tags": [],
            "needs_background": "light"
          }
        }
      ]
    },
    {
      "cell_type": "code",
      "metadata": {
        "colab": {
          "base_uri": "https://localhost:8080/",
          "height": 851
        },
        "id": "QbbEjd8SpUko",
        "outputId": "a8f4740b-5133-4197-8d3f-3aa1df82f5c2"
      },
      "source": [
        "# Group and revisualize data\n",
        "# VPIP\n",
        "vpipBins = pd.cut(df_filtered[\"VPIP\"], [0, .05, .1, .15, .2, .25, .3, .35, .4, .5, 1])\n",
        "df_filtered.groupby(vpipBins)[\"NetWon\"].mean().plot(color = \"red\")\n",
        "plt.title(\"VPIP and NetWon\")\n",
        "plt.xlabel(\"VPIP ranges\")\n",
        "plt.ylabel(\"Mean NetWon\")\n",
        "plt.axhline(y=0, color = \"black\", linestyle='--')\n",
        "plt.show()\n",
        "# PFR\n",
        "pfrBins = pd.cut(df_filtered[\"PFR\"], [0, .05, .1, .15, .2, .25, 1])\n",
        "df_filtered.groupby(vpipBins)[\"NetWon\"].mean().plot(color = \"green\")\n",
        "plt.title(\"PFR and NetWon\")\n",
        "plt.xlabel(\"PFR ranges\")\n",
        "plt.ylabel(\"Mean NetWon\")\n",
        "plt.axhline(y=0, color = \"black\", linestyle='--')\n",
        "plt.show()\n",
        "# ThreeBet\n",
        "threebetBins = pd.cut(df_filtered[\"ThreeBet\"], [0, .025, .05, .075, .1, 1])\n",
        "df_filtered.groupby(threebetBins)[\"NetWon\"].mean().plot(color = \"blue\")\n",
        "plt.title(\"ThreeBet and NetWon\")\n",
        "plt.xlabel(\"ThreeBet ranges\")\n",
        "plt.ylabel(\"Mean NetWon\")\n",
        "plt.axhline(y=0, color = \"black\", linestyle='--')\n",
        "plt.show()"
      ],
      "execution_count": 27,
      "outputs": [
        {
          "output_type": "display_data",
          "data": {
            "image/png": "[encoded data removed]",
            "text/plain": [
              "<Figure size 432x288 with 1 Axes>"
            ]
          },
          "metadata": {
            "tags": [],
            "needs_background": "light"
          }
        },
        {
          "output_type": "display_data",
          "data": {
            "image/png": "[encoded data removed]",
            "text/plain": [
              "<Figure size 432x288 with 1 Axes>"
            ]
          },
          "metadata": {
            "tags": [],
            "needs_background": "light"
          }
        },
        {
          "output_type": "display_data",
          "data": {
            "image/png": "[encoded data removed]",
            "text/plain": [
              "<Figure size 432x288 with 1 Axes>"
            ]
          },
          "metadata": {
            "tags": [],
            "needs_background": "light"
          }
        }
      ]
    },
    {
      "cell_type": "markdown",
      "metadata": {
        "id": "lsp1efKYyZVf"
      },
      "source": [
        "# Splitting and Binning Data"
      ]
    },
    {
      "cell_type": "code",
      "metadata": {
        "id": "B_1wVg_-2Z2x"
      },
      "source": [
        "# Split dataset into training set and validation set\n",
        "# 80% training and 20% validation\n",
        "x = df_filtered[[\"VPIP\",\"PFR\",\"ThreeBet\"]]\n",
        "y = df_filtered[[\"NetWon\"]]\n",
        "x_train, x_validation, y_train, y_validation = train_test_split(x, y, test_size=0.2, random_state=1)"
      ],
      "execution_count": 12,
      "outputs": []
    },
    {
      "cell_type": "code",
      "metadata": {
        "id": "7mnapz9zFyZt"
      },
      "source": [
        "# Bin data\n",
        "binx = KBinsDiscretizer(n_bins=50,strategy='uniform')\n",
        "x_train_bin = binx.fit_transform(x_train)\n",
        "x_validation_bin = binx.transform(x_validation)\n",
        "\n",
        "biny = KBinsDiscretizer(n_bins=10,strategy='uniform',encode = 'ordinal')\n",
        "y_train_bin = biny.fit_transform(y_train)\n",
        "y_validation_bin = biny.transform(y_validation)"
      ],
      "execution_count": 13,
      "outputs": []
    },
    {
      "cell_type": "markdown",
      "metadata": {
        "id": "ujwqVKKlyeHZ"
      },
      "source": [
        "# Training and Testing the Model"
      ]
    },
    {
      "cell_type": "code",
      "metadata": {
        "id": "uHrf1jMESqXO"
      },
      "source": [
        "# create Nearest Neighbor Classifier using 3 nearest neighbors\n",
        "classifier = KNeighborsClassifier(n_neighbors = 60)\n",
        "classifier.fit(x_train_bin, y_train_bin)\n"
      ],
      "execution_count": null,
      "outputs": []
    },
    {
      "cell_type": "code",
      "metadata": {
        "id": "ZqsAJ0WDgDiv"
      },
      "source": [
        "# Predict for validation set\n",
        "y_predict_validation = classifier.predict(x_validation_bin)"
      ],
      "execution_count": 15,
      "outputs": []
    },
    {
      "cell_type": "code",
      "metadata": {
        "colab": {
          "base_uri": "https://localhost:8080/"
        },
        "id": "hS12OfIugcsf",
        "outputId": "c2af9f37-ec4f-47d7-f192-a017c8d82657"
      },
      "source": [
        "# Compute the accuracy score\n",
        "accuracy = accuracy_score(y_predict_validation, y_validation_bin)\n",
        "print(\"Accuracy = \", accuracy)"
      ],
      "execution_count": 16,
      "outputs": [
        {
          "output_type": "stream",
          "text": [
            "Accuracy =  0.5584016393442623\n"
          ],
          "name": "stdout"
        }
      ]
    },
    {
      "cell_type": "markdown",
      "metadata": {
        "id": "Q1VUa5olykkJ"
      },
      "source": [
        "# Findings"
      ]
    },
    {
      "cell_type": "markdown",
      "metadata": {
        "id": "bSw5-hMy6Bpd"
      },
      "source": [
        "\n",
        "\n",
        "*   We found there to be a very clear correlation between pre-flop action and profit\n",
        "*   VPIP\n",
        "\n",
        "    *   The optimal range of VPIP was found to be 10-15%\n",
        "\n",
        "    *   Losing players tended to have much higher VPIP levels which displays the significance of limiting the amount of hands a player plays\n",
        "\n",
        "\n",
        "*   PFR\n",
        "\n",
        "    *   The optimal range of PFR was also found to be 10-15%\n",
        "    *   Losing players tended to have lower PFR levels which displays the negative effects of their passive play\n",
        "\n",
        "    *   Raising is extremely important to limit the number of players in the pot and increase potential value\n",
        "\n",
        "\n",
        "*   ThreeBet\n",
        "    *   The most profitbale three bet range was shown to be between 2.5-7.5%\n",
        "    *   This displays the important of agression and building the pot when a player has an exceptional hand\n",
        "\n",
        "    *   Three bet percentage did not very much on average between winning and losing players, but deviance from this mean was shown to have detrimental effects on profit\n",
        "\n",
        "*   The pre-flop statistic ranges that contained profitable players on average were limited to very small windows showing the importance of optimizing these values  \n",
        "\n",
        "\n",
        "*   The ability of our model to accuracetly predict a player's profit based on these statistics also displays the significance of pre-flop play when it comes to success in the game of Texas Hold'em\n",
        "\n",
        "\n",
        "\n",
        "\n",
        "\n",
        "\n",
        "\n",
        "\n",
        "\n",
        "\n",
        "\n",
        "\n",
        "\n",
        "\n",
        "\n",
        "\n",
        "\n",
        "\n",
        "\n",
        "\n"
      ]
    }
  ]
}